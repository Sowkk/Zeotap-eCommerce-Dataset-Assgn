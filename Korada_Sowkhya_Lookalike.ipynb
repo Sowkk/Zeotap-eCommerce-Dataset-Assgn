{
 "cells": [
  {
   "cell_type": "code",
   "execution_count": null,
   "id": "dd95eb46-13e6-4814-8706-a25c4e437f09",
   "metadata": {},
   "outputs": [],
   "source": [
    "import pandas as pd\n",
    "import numpy as np\n",
    "from datetime import datetime"
   ]
  },
  {
   "cell_type": "markdown",
   "id": "c1946c65-3026-498f-875c-ae7d933eab1c",
   "metadata": {},
   "source": [
    "## Loading datasets\n"
   ]
  },
  {
   "cell_type": "code",
   "execution_count": null,
   "id": "8b1a8aee-90b5-4f38-87cb-22375ba58d8e",
   "metadata": {},
   "outputs": [],
   "source": [
    "customers = pd.read_csv('Customers.csv')\n",
    "products = pd.read_csv('Products.csv')\n",
    "transactions = pd.read_csv('Transactions.csv')"
   ]
  },
  {
   "cell_type": "markdown",
   "id": "2f48a0cb-ff46-4b87-916e-2cdea5e5b5fa",
   "metadata": {},
   "source": [
    "># Top 3 products purchased by each customer\n",
    "## Products purchased by each customer"
   ]
  },
  {
   "cell_type": "code",
   "execution_count": null,
   "id": "5f783f7c-7f8f-47d0-ae07-c506d2401263",
   "metadata": {},
   "outputs": [],
   "source": [
    "prods_purchased = transactions.groupby(['CustomerID', 'ProductID'])['Quantity'].sum().reset_index(name='PurchaseCount')\n",
    "#prods_purchased"
   ]
  },
  {
   "cell_type": "markdown",
   "id": "d557c7b9-0059-427f-9373-d89bd314911e",
   "metadata": {},
   "source": [
    "## Products purchased by each customer, ordered by count (DESC)"
   ]
  },
  {
   "cell_type": "code",
   "execution_count": null,
   "id": "6d7da74b-a260-4ef1-8f75-3cca82afd7ef",
   "metadata": {},
   "outputs": [],
   "source": [
    "top_products = prods_purchased.sort_values(['CustomerID', 'PurchaseCount'], ascending=[True, False])\n",
    "#top_products"
   ]
  },
  {
   "cell_type": "markdown",
   "id": "d3b43bfa-836b-42a1-96c4-89a8c37df2d7",
   "metadata": {},
   "source": [
    "## Top 3 products purchased by each customer"
   ]
  },
  {
   "cell_type": "code",
   "execution_count": null,
   "id": "8201cdd4-a7eb-41fd-8010-0cea2c705ebb",
   "metadata": {},
   "outputs": [],
   "source": [
    "top3_per_customer = top_products.groupby('CustomerID').head(3)\n",
    "#top3_per_customer"
   ]
  },
  {
   "cell_type": "markdown",
   "id": "a1cc26cc-937f-4dfa-a1aa-d4c3ec51e953",
   "metadata": {},
   "source": [
    "## Top 3 prods converted to set"
   ]
  },
  {
   "cell_type": "code",
   "execution_count": null,
   "id": "0398cbda-57e1-4ce2-aa8d-400f02cdbb01",
   "metadata": {},
   "outputs": [],
   "source": [
    "customer_top3_sets = top3_per_customer.groupby('CustomerID')['ProductID'].apply(set).reset_index()\n",
    "#customer_top3_sets"
   ]
  },
  {
   "cell_type": "markdown",
   "id": "c5f1b336-1a90-4f67-960d-ddf1c19acf8f",
   "metadata": {},
   "source": [
    "># Total Spending by each customer"
   ]
  },
  {
   "cell_type": "code",
   "execution_count": null,
   "id": "c1e5b2b2-ecfd-4891-aa08-bd9b04ee7f03",
   "metadata": {},
   "outputs": [],
   "source": [
    "total_spending = transactions.groupby('CustomerID')['TotalValue'].sum().reset_index(name='TotalSpending')\n",
    "#total_spending"
   ]
  },
  {
   "cell_type": "markdown",
   "id": "304063a8-0d6d-4965-9aa0-bb6e11f6e594",
   "metadata": {},
   "source": [
    "># Average Spending by each customer per transaction"
   ]
  },
  {
   "cell_type": "code",
   "execution_count": null,
   "id": "8a46f61b-0613-4e11-8669-fb9db4b6346f",
   "metadata": {},
   "outputs": [],
   "source": [
    "avg_spending = transactions.groupby('CustomerID')['TotalValue'].mean().reset_index(name='AvgSpending')\n",
    "#avg_spending"
   ]
  },
  {
   "cell_type": "markdown",
   "id": "6a5f8cff-c22f-44af-ad47-0a481a563518",
   "metadata": {},
   "source": [
    "># Number of transactions by each customer"
   ]
  },
  {
   "cell_type": "code",
   "execution_count": null,
   "id": "017247c0-e608-416f-bf93-9cd88db3cbb0",
   "metadata": {
    "scrolled": true
   },
   "outputs": [],
   "source": [
    "transaction_frequency = transactions.groupby('CustomerID')['TransactionID'].count().reset_index(name='TransactionFrequency')\n",
    "#transaction_frequency"
   ]
  },
  {
   "cell_type": "markdown",
   "id": "7c2e8670-2cd3-4759-9664-e1472b86c102",
   "metadata": {},
   "source": [
    "># No.of days since last purchase"
   ]
  },
  {
   "cell_type": "markdown",
   "id": "a4ed77f5-c116-47e7-81c9-7be2d3c1f50f",
   "metadata": {},
   "source": [
    "## Finding date of latest purchase"
   ]
  },
  {
   "cell_type": "code",
   "execution_count": null,
   "id": "aa3fe21e-ef06-4fb5-9cc4-06e229dc3746",
   "metadata": {},
   "outputs": [],
   "source": [
    "transactions['TransactionDate'] = pd.to_datetime(transactions['TransactionDate'])\n",
    "last_purchase = transactions.groupby('CustomerID')['TransactionDate'].max().reset_index(name='LastPurchaseDate')\n",
    "#last_purchase"
   ]
  },
  {
   "cell_type": "markdown",
   "id": "21246024-515a-4d66-9de3-583df186265a",
   "metadata": {},
   "source": [
    "## Recency in days of lastest purchase"
   ]
  },
  {
   "cell_type": "code",
   "execution_count": null,
   "id": "83660f21-22d1-4318-ae69-fe4cf01e0a97",
   "metadata": {},
   "outputs": [],
   "source": [
    "last_purchase['Recency'] = (datetime.now() - last_purchase['LastPurchaseDate']).dt.days\n",
    "#last_purchase"
   ]
  },
  {
   "cell_type": "markdown",
   "id": "11673bab-a519-4ee9-ab6d-c36c3462d52e",
   "metadata": {},
   "source": [
    "># Weighted categories purchased by each customer"
   ]
  },
  {
   "cell_type": "markdown",
   "id": "8001d425-072e-4b75-a4f3-b44bf09571a4",
   "metadata": {},
   "source": [
    "## Merge Transactions and Products"
   ]
  },
  {
   "cell_type": "code",
   "execution_count": null,
   "id": "33d089ea-d1ac-441f-a110-6af1efaa60b6",
   "metadata": {
    "scrolled": true
   },
   "outputs": [],
   "source": [
    "# Merge transactions with product information\n",
    "trans_prods = transactions.merge(products, on='ProductID')\n",
    "#trans_prods"
   ]
  },
  {
   "cell_type": "markdown",
   "id": "ffdea9e0-bb5a-4b5c-b97c-ad6ff6ae40a9",
   "metadata": {},
   "source": [
    "## Count of each category per customer"
   ]
  },
  {
   "cell_type": "code",
   "execution_count": null,
   "id": "b1214906-86e9-49f1-8c05-f6f854b79f17",
   "metadata": {},
   "outputs": [],
   "source": [
    "category_counts = trans_prods.groupby(['CustomerID', 'Category'])['Quantity'].sum().reset_index()\n",
    "\n",
    "# Sort categories by CustomerID and Quantity purchased (descending)\n",
    "category_counts = category_counts.sort_values(['CustomerID', 'Quantity'], ascending=[True, False])\n",
    "#category_counts"
   ]
  },
  {
   "cell_type": "markdown",
   "id": "fd911d83-9fc4-4c8a-9859-b3faa0c16a81",
   "metadata": {},
   "source": [
    "## Total (of all categories) per customer"
   ]
  },
  {
   "cell_type": "code",
   "execution_count": null,
   "id": "4136ef7b-2063-41f2-8be1-947c755922e9",
   "metadata": {},
   "outputs": [],
   "source": [
    "total_quantity_per_customer = category_counts.groupby('CustomerID')['Quantity'].sum().reset_index(name='TotalQuantity')\n",
    "#total_quantity_per_customer"
   ]
  },
  {
   "cell_type": "markdown",
   "id": "fcecc61f-47bc-4acf-b0c6-d5e943c0f821",
   "metadata": {},
   "source": [
    "## Weight per each category"
   ]
  },
  {
   "cell_type": "code",
   "execution_count": null,
   "id": "1d328949-fdb3-41bc-81bd-f201f4b6b290",
   "metadata": {},
   "outputs": [],
   "source": [
    "# Merge total quantities to calculate weights\n",
    "category_counts = category_counts.merge(total_quantity_per_customer, on='CustomerID')\n",
    "category_counts['CategoryWeight'] = category_counts['Quantity'] / category_counts['TotalQuantity']\n",
    "#category_counts"
   ]
  },
  {
   "cell_type": "markdown",
   "id": "e4fde887-1ccb-4beb-90e8-3fb94e6e6363",
   "metadata": {},
   "source": [
    "## Weight Matrix of prods category for each customer"
   ]
  },
  {
   "cell_type": "code",
   "execution_count": null,
   "id": "ddee78d7-b25f-4023-a61b-7ba67132765f",
   "metadata": {},
   "outputs": [],
   "source": [
    "# Pivot to get a weighted category matrix\n",
    "weighted_category_matrix = category_counts.pivot(index='CustomerID', columns='Category', values='CategoryWeight').fillna(0)\n",
    "#weighted_category_matrix"
   ]
  },
  {
   "cell_type": "markdown",
   "id": "333f3316-1344-46f0-9524-5174bd7f8d50",
   "metadata": {},
   "source": [
    "># Merging features considered"
   ]
  },
  {
   "cell_type": "code",
   "execution_count": null,
   "id": "da46c1a7-27ff-4d4c-8a2d-f3b5971d74de",
   "metadata": {},
   "outputs": [],
   "source": [
    "customer_features = customers.merge(total_spending, on='CustomerID') \\\n",
    "                              .merge(avg_spending, on='CustomerID') \\\n",
    "                              .merge(transaction_frequency, on='CustomerID') \\\n",
    "                              .merge(last_purchase[['CustomerID', 'Recency']], on='CustomerID') \\\n",
    "                              .merge(weighted_category_matrix, on='CustomerID', how='left').fillna(0)\n",
    "customer_features"
   ]
  },
  {
   "cell_type": "markdown",
   "id": "acce3462-8e62-46c5-9117-48d62f65303c",
   "metadata": {},
   "source": [
    "## Check for missing values"
   ]
  },
  {
   "cell_type": "code",
   "execution_count": null,
   "id": "62e92c80-dd50-4b94-a438-d63f5702dabd",
   "metadata": {},
   "outputs": [],
   "source": [
    "customer_features.isnull().sum()"
   ]
  },
  {
   "cell_type": "markdown",
   "id": "1f0f94b8-6d86-40fd-96b9-245122d00210",
   "metadata": {},
   "source": [
    "## Check for duplicate values"
   ]
  },
  {
   "cell_type": "code",
   "execution_count": null,
   "id": "5d592a1a-6436-4886-a248-bdf4562d57ce",
   "metadata": {},
   "outputs": [],
   "source": [
    "duplc = customer_features.duplicated(subset='CustomerID')\n",
    "duplc.sort_values(ascending=False)\n",
    "\n",
    "duplc"
   ]
  },
  {
   "cell_type": "code",
   "execution_count": null,
   "id": "149fb5c2-66da-45c5-b6d3-967fd795ce20",
   "metadata": {},
   "outputs": [],
   "source": [
    "customer_features"
   ]
  },
  {
   "cell_type": "markdown",
   "id": "e1f1d43c-0f9b-44d3-b5c4-b5f8f480098b",
   "metadata": {},
   "source": [
    "># Feauter Scaling"
   ]
  },
  {
   "cell_type": "markdown",
   "id": "c340d6f4-e9a9-4c5d-bdbd-41cf3e7d0bd1",
   "metadata": {},
   "source": [
    "## One-hot Encoding for Categorical cols: 'Region'"
   ]
  },
  {
   "cell_type": "code",
   "execution_count": null,
   "id": "eb04fdb1-0833-4040-bd9b-c7b5a5e30332",
   "metadata": {},
   "outputs": [],
   "source": [
    "customer_features = pd.get_dummies(customer_features, columns=['Region'])\n",
    "customer_features"
   ]
  },
  {
   "cell_type": "code",
   "execution_count": null,
   "id": "7af9faf2-aa08-4488-b7b8-01c3d64ec820",
   "metadata": {},
   "outputs": [],
   "source": [
    "region_cols = [col for col in customer_features.columns if col.startswith('Region_')]\n",
    "region_cols"
   ]
  },
  {
   "cell_type": "markdown",
   "id": "2d7d4b07-e2e0-4789-8117-8bb6fc8c3b9a",
   "metadata": {},
   "source": [
    "## Standardization of Numeric cols"
   ]
  },
  {
   "cell_type": "code",
   "execution_count": null,
   "id": "649e2f64-b38e-45df-9663-d7cea101056c",
   "metadata": {},
   "outputs": [],
   "source": [
    "from sklearn.preprocessing import StandardScaler\n",
    "\n",
    "scaler = StandardScaler()\n",
    "numerical_features = ['TotalSpending', 'AvgSpending', 'TransactionFrequency', 'Recency']\n",
    "\n",
    "customer_features[numerical_features] = scaler.fit_transform(customer_features[numerical_features])\n",
    "#customer_features"
   ]
  },
  {
   "cell_type": "markdown",
   "id": "eeef314a-7c13-4c1f-ad00-54c08d556ea6",
   "metadata": {},
   "source": [
    "># Calculations of Similarities using Cosine Similarity"
   ]
  },
  {
   "cell_type": "code",
   "execution_count": null,
   "id": "e2027367-90e5-43ec-8965-1827f388ae09",
   "metadata": {},
   "outputs": [],
   "source": [
    "from sklearn.metrics.pairwise import cosine_similarity\n",
    "features = customer_features[numerical_features + ['Books', 'Clothing', 'Electronics', 'Home Decor']+region_cols]\n",
    "similarity_matrix = cosine_similarity(features)\n",
    "similarity_matrix"
   ]
  },
  {
   "cell_type": "markdown",
   "id": "99d34982-c1dd-4cbc-8b8c-462e73ee16ea",
   "metadata": {},
   "source": [
    "## Setting CustomerID as index "
   ]
  },
  {
   "cell_type": "code",
   "execution_count": null,
   "id": "792a282b-9b1b-4851-b8c6-5a06b1f12c7e",
   "metadata": {},
   "outputs": [],
   "source": [
    "feature_matrix = customer_features.set_index('CustomerID')"
   ]
  },
  {
   "cell_type": "markdown",
   "id": "25324824-d226-4274-a8d7-a86484013609",
   "metadata": {},
   "source": [
    "## DataFrame for similarities"
   ]
  },
  {
   "cell_type": "code",
   "execution_count": null,
   "id": "1525709d-b77b-4c90-a905-8c50fa4c192b",
   "metadata": {},
   "outputs": [],
   "source": [
    "similarity_df = pd.DataFrame(similarity_matrix, index=feature_matrix.index, columns=feature_matrix.index)\n",
    "similarity_df"
   ]
  },
  {
   "cell_type": "markdown",
   "id": "3bc0b82e-ae54-4563-9a5a-deac3c3d3047",
   "metadata": {},
   "source": [
    "># Mapping top 3 lookalike customers for each customer"
   ]
  },
  {
   "cell_type": "code",
   "execution_count": null,
   "id": "b858795e-6a2c-4fc3-a4c0-03e870021ddf",
   "metadata": {},
   "outputs": [],
   "source": [
    "lookalikes = {}\n",
    "for customer_id in feature_matrix.index[:20]:  # First 20 customers (C0001 - C0020)\n",
    "    similar_customers = similarity_df[customer_id].sort_values(ascending=False).iloc[1:4]  # Get top 3 similar customers\n",
    "    lookalikes[customer_id] = [(other_id, round(score, 4)) for other_id, score in similar_customers.items()]"
   ]
  },
  {
   "cell_type": "markdown",
   "id": "ae3f5941-a704-416c-b9e9-6c4c3560d394",
   "metadata": {},
   "source": [
    "## DataFrame for lookalikes"
   ]
  },
  {
   "cell_type": "code",
   "execution_count": null,
   "id": "77d22916-785c-4c4e-9255-b5aa4ddbd469",
   "metadata": {},
   "outputs": [],
   "source": [
    "lookalike_df = pd.DataFrame({\n",
    "    'CustomerID': lookalikes.keys(),\n",
    "    'LookalikeCustomers': [str(value) for value in lookalikes.values()]\n",
    "})\n",
    "lookalike_df"
   ]
  },
  {
   "cell_type": "markdown",
   "id": "f30d314e-35ae-4337-8e80-4ff8aea60b3b",
   "metadata": {},
   "source": [
    "## Save lookalikes df to .csv file"
   ]
  },
  {
   "cell_type": "code",
   "execution_count": null,
   "id": "0c5988fc-dda4-400d-8ebe-fbe224c44aa1",
   "metadata": {},
   "outputs": [],
   "source": [
    "lookalike_df.to_csv('Lookalike.csv', index=False)"
   ]
  }
 ],
 "metadata": {
  "kernelspec": {
   "display_name": "Python 3 (ipykernel)",
   "language": "python",
   "name": "python3"
  },
  "language_info": {
   "codemirror_mode": {
    "name": "ipython",
    "version": 3
   },
   "file_extension": ".py",
   "mimetype": "text/x-python",
   "name": "python",
   "nbconvert_exporter": "python",
   "pygments_lexer": "ipython3",
   "version": "3.12.4"
  }
 },
 "nbformat": 4,
 "nbformat_minor": 5
}
